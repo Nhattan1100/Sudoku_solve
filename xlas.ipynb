{
 "cells": [
  {
   "cell_type": "code",
   "execution_count": 85,
   "metadata": {},
   "outputs": [],
   "source": [
    "import cv2\n",
    "import numpy as np\n",
    "from imutils import contours\n",
    "import pytesseract\n",
    "import os"
   ]
  },
  {
   "cell_type": "code",
   "execution_count": 86,
   "metadata": {},
   "outputs": [],
   "source": [
    "# load image\n",
    "image = cv2.imread('ex2.jpg')\n",
    "\n",
    "#process iamge\n",
    "gray = cv2.cvtColor(image, cv2.COLOR_BGR2GRAY)\n",
    "outer_box = cv2.bitwise_not(gray)\n",
    "outer_box = cv2.adaptiveThreshold(outer_box, 255, cv2.ADAPTIVE_THRESH_MEAN_C, cv2.THRESH_BINARY, 15, -2)\n",
    "\n",
    "cv2.imshow('image', outer_box)\n",
    "cv2.waitKey(0)\n",
    "cv2.destroyAllWindows()"
   ]
  },
  {
   "cell_type": "code",
   "execution_count": 87,
   "metadata": {},
   "outputs": [],
   "source": [
    "#extract horizontal and vertical lines\n",
    "horizontal = np.copy(outer_box)\n",
    "vertical = np.copy(outer_box)\n",
    "\n",
    "#horizontal\n",
    "cols = horizontal.shape[1]\n",
    "horizontal_size = cols // 10\n",
    "\n",
    "horizontalStructure = cv2.getStructuringElement(cv2.MORPH_RECT, (horizontal_size, 1))\n",
    "\n",
    "horizontal = cv2.erode(horizontal, horizontalStructure)\n",
    "horizontal = cv2.dilate(horizontal, horizontalStructure)\n",
    "\n",
    "cv2.imshow('horizontal lines', horizontal)\n",
    "cv2.waitKey(0)\n",
    "cv2.destroyAllWindows()"
   ]
  },
  {
   "cell_type": "code",
   "execution_count": 88,
   "metadata": {},
   "outputs": [],
   "source": [
    "#vertical\n",
    "rows = vertical.shape[0]\n",
    "vertical_size = rows // 10\n",
    "\n",
    "verticalStructure = cv2.getStructuringElement(cv2.MORPH_RECT, (1, vertical_size))\n",
    "\n",
    "vertical = cv2.erode(vertical, verticalStructure)\n",
    "vertical = cv2.dilate(vertical, verticalStructure)\n",
    "\n",
    "cv2.imshow('vertical lines', vertical)\n",
    "cv2.waitKey(0)\n",
    "cv2.destroyAllWindows()"
   ]
  },
  {
   "cell_type": "code",
   "execution_count": 89,
   "metadata": {},
   "outputs": [],
   "source": [
    "#concatenate horizontal and vertical\n",
    "concatenate = cv2.bitwise_or(vertical, horizontal)\n",
    "\n",
    "cv2.imshow('concatenate', concatenate)\n",
    "cv2.waitKey(0)\n",
    "cv2.destroyAllWindows()"
   ]
  },
  {
   "cell_type": "code",
   "execution_count": 90,
   "metadata": {},
   "outputs": [],
   "source": [
    "new_img = cv2.bitwise_not(concatenate)\n",
    "\n",
    "edges = cv2.adaptiveThreshold(new_img, 255, cv2.ADAPTIVE_THRESH_MEAN_C, cv2.THRESH_BINARY, 3, -2)\n",
    "\n",
    "cv2.imshow('concatenated', edges)\n",
    "cv2.waitKey(0)\n",
    "cv2.destroyAllWindows()"
   ]
  },
  {
   "cell_type": "code",
   "execution_count": 91,
   "metadata": {},
   "outputs": [],
   "source": [
    "kernel = np.ones((2, 2), np.uint8)\n",
    "edges = cv2.dilate(edges, kernel)\n",
    "\n",
    "cv2.imshow('dilated', edges)\n",
    "cv2.waitKey(0)\n",
    "cv2.destroyAllWindows()"
   ]
  },
  {
   "cell_type": "code",
   "execution_count": 92,
   "metadata": {},
   "outputs": [],
   "source": [
    "smooth = cv2.blur(edges, (2, 2))\n",
    "\n",
    "cv2.imshow('smooth edges', smooth)\n",
    "cv2.waitKey(0)\n",
    "cv2.destroyAllWindows()"
   ]
  },
  {
   "cell_type": "code",
   "execution_count": 93,
   "metadata": {},
   "outputs": [],
   "source": [
    "#find countours of detected edges\n",
    "cnts, hierarchy = cv2.findContours(image=smooth, mode=cv2.RETR_TREE, method=cv2.CHAIN_APPROX_NONE)\n",
    "cp = image.copy()\n",
    "cv2.drawContours(image=cp, contours=cnts, contourIdx=-1, color=(0,0,255), thickness=2, lineType=cv2.LINE_AA)\n",
    "\n",
    "cv2.imshow('detedted contours', cp)\n",
    "cv2.waitKey(0)\n",
    "cv2.destroyAllWindows()"
   ]
  },
  {
   "cell_type": "code",
   "execution_count": 94,
   "metadata": {},
   "outputs": [],
   "source": [
    "#sort extracted contours\n",
    "cnts,_ = contours.sort_contours(cnts, method='left-to-right')\n",
    "cnts,_ = contours.sort_contours(cnts, method='top-to-bottom')"
   ]
  },
  {
   "cell_type": "code",
   "execution_count": 95,
   "metadata": {},
   "outputs": [],
   "source": [
    "#plot contours of each cell forming bounding box\n",
    "cp = image.copy()\n",
    "count = 0\n",
    "for c in cnts:\n",
    "    if(cv2.contourArea(c)>1000 and cv2.contourArea(c)<6000):\n",
    "        count += 1\n",
    "        rect = cv2.boundingRect(c)\n",
    "        x,y,w,h = rect\n",
    "        cv2.rectangle(cp,(x,y),(x+w,y+h),(0,255,0),2)\n",
    "        \n",
    "        cv2.imshow('image', cp)\n",
    "        cv2.waitKey(50)\n",
    "cv2.destroyAllWindows()"
   ]
  },
  {
   "cell_type": "code",
   "execution_count": 96,
   "metadata": {},
   "outputs": [],
   "source": [
    "def convert_gray(img):\n",
    "    return cv2.cvtColor(img,cv2.COLOR_BGR2GRAY)\n",
    "\n",
    "def get_num(img):\n",
    "    #pytesseract.pytesseract.tesseract_cmd = r'C:\\Program Files\\Tesseract-OCR\\tesseract.exe'\n",
    "    return pytesseract.image_to_string(img,config=r'--psm 6 --oem 3 outputbase digits -c tessedit_char_whitelist=0123456789')\n"
   ]
  },
  {
   "cell_type": "code",
   "execution_count": 97,
   "metadata": {},
   "outputs": [],
   "source": [
    "cp = image.copy()\n",
    "count = 0\n",
    "num= []\n",
    "for c in cnts:\n",
    "    if(cv2.contourArea(c)>1000 and cv2.contourArea(c)<5000):\n",
    "        count = count + 1\n",
    "        rect = cv2.boundingRect(c)\n",
    "        x,y,w,h = rect\n",
    "        arr = np.array(cp[y:y+h,x:x+w])\n",
    "        num.append(get_num(arr))"
   ]
  },
  {
   "cell_type": "code",
   "execution_count": 98,
   "metadata": {},
   "outputs": [
    {
     "data": {
      "text/plain": [
       "81"
      ]
     },
     "execution_count": 98,
     "metadata": {},
     "output_type": "execute_result"
    }
   ],
   "source": [
    "len(num)"
   ]
  },
  {
   "cell_type": "code",
   "execution_count": 99,
   "metadata": {},
   "outputs": [
    {
     "name": "stdout",
     "output_type": "stream",
     "text": [
      "[['', '', '', '1\\n', '', '2\\n', '', '', '3\\n'], ['', '', '2\\n', '', '', '4\\n', '', '', '5\\n'], ['', '', '', '6\\n', '7\\n', '', '8\\n', '', ''], ['6\\n', '', '4\\n', '9\\n', '', '8\\n', '', '7\\n', ''], ['', '', '8\\n', '', '', '', '9\\n', '', ''], ['', '9\\n', '', '5\\n', '', '3\\n', '2\\n', '', '8\\n'], ['', '', '5\\n', '', '9\\n', '6\\n', '', '1\\n', ''], ['2\\n', '', '', '7\\n', '', '', '6\\n', '', ''], ['7\\n', '', '', '8\\n', '', '', '', '', '']]\n"
     ]
    }
   ],
   "source": [
    "def divide_chunks(l, n):\n",
    "    for i in range(0, len(l), n):\n",
    "        yield l[i:i + n]\n",
    "matrix = list(divide_chunks(num, 9))\n",
    "print(matrix)"
   ]
  },
  {
   "cell_type": "code",
   "execution_count": 100,
   "metadata": {},
   "outputs": [
    {
     "data": {
      "text/plain": [
       "'1\\n'"
      ]
     },
     "execution_count": 100,
     "metadata": {},
     "output_type": "execute_result"
    }
   ],
   "source": [
    "matrix[0][3]"
   ]
  },
  {
   "cell_type": "code",
   "execution_count": 101,
   "metadata": {},
   "outputs": [],
   "source": [
    "import copy\n",
    "\n",
    "mat = copy.deepcopy(matrix)\n",
    "\n",
    "#change '' to '0'\n",
    "for n in mat:\n",
    "    for j,i in enumerate(n):\n",
    "        if i == '':\n",
    "            n[j]=i.replace('','0')\n",
    "        else:\n",
    "            n[j]=i.replace(i,i[0])"
   ]
  },
  {
   "cell_type": "code",
   "execution_count": 102,
   "metadata": {},
   "outputs": [
    {
     "data": {
      "text/plain": [
       "[['0', '0', '0', '1', '0', '2', '0', '0', '3'],\n",
       " ['0', '0', '2', '0', '0', '4', '0', '0', '5'],\n",
       " ['0', '0', '0', '6', '7', '0', '8', '0', '0'],\n",
       " ['6', '0', '4', '9', '0', '8', '0', '7', '0'],\n",
       " ['0', '0', '8', '0', '0', '0', '9', '0', '0'],\n",
       " ['0', '9', '0', '5', '0', '3', '2', '0', '8'],\n",
       " ['0', '0', '5', '0', '9', '6', '0', '1', '0'],\n",
       " ['2', '0', '0', '7', '0', '0', '6', '0', '0'],\n",
       " ['7', '0', '0', '8', '0', '0', '0', '0', '0']]"
      ]
     },
     "execution_count": 102,
     "metadata": {},
     "output_type": "execute_result"
    }
   ],
   "source": [
    "mat"
   ]
  },
  {
   "cell_type": "code",
   "execution_count": 103,
   "metadata": {},
   "outputs": [],
   "source": [
    "#change '-' to '0'\n",
    "for n in mat:\n",
    "    for j,i in enumerate(n):\n",
    "        if i == '-':\n",
    "            n[j]=i.replace('-','0')\n",
    "        else:\n",
    "            n[j]=i.replace(i,i[0])"
   ]
  },
  {
   "cell_type": "code",
   "execution_count": 104,
   "metadata": {},
   "outputs": [
    {
     "data": {
      "text/plain": [
       "[['0', '0', '0', '1', '0', '2', '0', '0', '3'],\n",
       " ['0', '0', '2', '0', '0', '4', '0', '0', '5'],\n",
       " ['0', '0', '0', '6', '7', '0', '8', '0', '0'],\n",
       " ['6', '0', '4', '9', '0', '8', '0', '7', '0'],\n",
       " ['0', '0', '8', '0', '0', '0', '9', '0', '0'],\n",
       " ['0', '9', '0', '5', '0', '3', '2', '0', '8'],\n",
       " ['0', '0', '5', '0', '9', '6', '0', '1', '0'],\n",
       " ['2', '0', '0', '7', '0', '0', '6', '0', '0'],\n",
       " ['7', '0', '0', '8', '0', '0', '0', '0', '0']]"
      ]
     },
     "execution_count": 104,
     "metadata": {},
     "output_type": "execute_result"
    }
   ],
   "source": [
    "mat"
   ]
  },
  {
   "cell_type": "code",
   "execution_count": 105,
   "metadata": {},
   "outputs": [],
   "source": [
    "#change '.' to '0'\n",
    "for n in mat:\n",
    "    for j,i in enumerate(n):\n",
    "        if i == '.':\n",
    "            n[j]=i.replace('.','0')\n",
    "        else:\n",
    "            n[j]=i.replace(i,i[0])"
   ]
  },
  {
   "cell_type": "code",
   "execution_count": 106,
   "metadata": {},
   "outputs": [
    {
     "data": {
      "text/plain": [
       "[['0', '0', '0', '1', '0', '2', '0', '0', '3'],\n",
       " ['0', '0', '2', '0', '0', '4', '0', '0', '5'],\n",
       " ['0', '0', '0', '6', '7', '0', '8', '0', '0'],\n",
       " ['6', '0', '4', '9', '0', '8', '0', '7', '0'],\n",
       " ['0', '0', '8', '0', '0', '0', '9', '0', '0'],\n",
       " ['0', '9', '0', '5', '0', '3', '2', '0', '8'],\n",
       " ['0', '0', '5', '0', '9', '6', '0', '1', '0'],\n",
       " ['2', '0', '0', '7', '0', '0', '6', '0', '0'],\n",
       " ['7', '0', '0', '8', '0', '0', '0', '0', '0']]"
      ]
     },
     "execution_count": 106,
     "metadata": {},
     "output_type": "execute_result"
    }
   ],
   "source": [
    "mat"
   ]
  },
  {
   "cell_type": "code",
   "execution_count": 107,
   "metadata": {},
   "outputs": [],
   "source": [
    "#change str('') into int. Ex: '5' -> 5\n",
    "for row in mat:\n",
    "    for i,j in enumerate(row):\n",
    "        row[i] = int(j)"
   ]
  },
  {
   "cell_type": "code",
   "execution_count": 108,
   "metadata": {},
   "outputs": [
    {
     "data": {
      "text/plain": [
       "[[0, 0, 0, 1, 0, 2, 0, 0, 3],\n",
       " [0, 0, 2, 0, 0, 4, 0, 0, 5],\n",
       " [0, 0, 0, 6, 7, 0, 8, 0, 0],\n",
       " [6, 0, 4, 9, 0, 8, 0, 7, 0],\n",
       " [0, 0, 8, 0, 0, 0, 9, 0, 0],\n",
       " [0, 9, 0, 5, 0, 3, 2, 0, 8],\n",
       " [0, 0, 5, 0, 9, 6, 0, 1, 0],\n",
       " [2, 0, 0, 7, 0, 0, 6, 0, 0],\n",
       " [7, 0, 0, 8, 0, 0, 0, 0, 0]]"
      ]
     },
     "execution_count": 108,
     "metadata": {},
     "output_type": "execute_result"
    }
   ],
   "source": [
    "mat"
   ]
  },
  {
   "cell_type": "code",
   "execution_count": 109,
   "metadata": {},
   "outputs": [],
   "source": [
    "grid = copy.deepcopy(mat)"
   ]
  },
  {
   "cell_type": "markdown",
   "metadata": {},
   "source": [
    "#solving\n",
    "def possible(row, column, number):\n",
    "    global grid\n",
    "    \n",
    "    #check if the number appearing in the given row\n",
    "    for i in range(0,9):\n",
    "        if grid[row][i] == number:\n",
    "            return False\n",
    "    \n",
    "    #check if the number appearing in the given column\n",
    "    for i in range(0,9):\n",
    "        if grid[i][column] == number:\n",
    "            return False\n",
    "    \n",
    "    #check if the number appearing in the given square\n",
    "    x0 = (column // 3) * 3\n",
    "    y0 = (row // 3) * 3\n",
    "    for i in range(0,3):\n",
    "        for j in range(0,3):\n",
    "            if grid[y0+i][x0+j] == number:\n",
    "                return False\n",
    "\n",
    "    return True\n",
    "\n",
    "def solve():\n",
    "    global grid\n",
    "    for row in range(0,9):\n",
    "        for column in range(0,9):\n",
    "            if grid[row][column] == 0:\n",
    "                for number in range(1,10):\n",
    "                    if possible(row, column, number):\n",
    "                        grid[row][column] = number\n",
    "                        solve()\n",
    "                        grid[row][column] = 0\n",
    "\n",
    "                return\n",
    "      \n",
    "    print(np.matrix(grid))\n",
    "solve()"
   ]
  },
  {
   "cell_type": "code",
   "execution_count": 110,
   "metadata": {},
   "outputs": [
    {
     "name": "stdout",
     "output_type": "stream",
     "text": [
      "[[4, 8, 6, 1, 5, 2, 7, 9, 3], [9, 7, 2, 3, 8, 4, 1, 6, 5], [3, 5, 1, 6, 7, 9, 8, 2, 4], [6, 3, 4, 9, 2, 8, 5, 7, 1], [5, 2, 8, 4, 1, 7, 9, 3, 6], [1, 9, 7, 5, 6, 3, 2, 4, 8], [8, 4, 5, 2, 9, 6, 3, 1, 7], [2, 1, 3, 7, 4, 5, 6, 8, 9], [7, 6, 9, 8, 3, 1, 4, 5, 2]]\n"
     ]
    }
   ],
   "source": [
    "M = 9\n",
    "def solve(grid, row, col, num):\n",
    "    for x in range(9):\n",
    "        if grid[row][x] == num:\n",
    "            return False\n",
    "        \n",
    "    for x in range(9):\n",
    "        if grid[x][col] == num:\n",
    "            return False\n",
    "    \n",
    "    x0 = row - row % 3\n",
    "    y0 = col - col % 3\n",
    "    \n",
    "    for i in range(3):\n",
    "        for j in range(3):\n",
    "            if grid[i+x0][j+y0] == num:\n",
    "                return False\n",
    "    return True\n",
    "\n",
    "def Sudoku(grid, row, col):\n",
    "    if(row == M - 1 and col == M):\n",
    "        return True\n",
    "    if col == M:\n",
    "        row += 1\n",
    "        col = 0\n",
    "    if grid[row][col] > 0:\n",
    "        return Sudoku(grid, row, col + 1)\n",
    "    for num in range(1, M + 1, 1):\n",
    "        if solve(grid, row, col, num):\n",
    "            grid[row][col] = num\n",
    "            if Sudoku(grid, row, col + 1):\n",
    "                return True\n",
    "        grid[row][col] = 0\n",
    "    return False\n",
    "\n",
    "if(Sudoku(grid,0,0)):\n",
    "    print(grid)\n",
    "else:\n",
    "    print(\"Sorry! :(\")"
   ]
  },
  {
   "cell_type": "code",
   "execution_count": 111,
   "metadata": {},
   "outputs": [],
   "source": [
    "bound = []\n",
    "for c in cnts:\n",
    "    if(cv2.contourArea(c)>1000 and cv2.contourArea(c)<5000):\n",
    "        count += 1\n",
    "        rect = cv2.boundingRect(c)\n",
    "        bound.append(rect)"
   ]
  },
  {
   "cell_type": "code",
   "execution_count": 112,
   "metadata": {},
   "outputs": [
    {
     "data": {
      "text/plain": [
       "81"
      ]
     },
     "execution_count": 112,
     "metadata": {},
     "output_type": "execute_result"
    }
   ],
   "source": [
    "len(bound)"
   ]
  },
  {
   "cell_type": "code",
   "execution_count": 113,
   "metadata": {},
   "outputs": [
    {
     "data": {
      "text/plain": [
       "[[4, 8, 6, 1, 5, 2, 7, 9, 3],\n",
       " [9, 7, 2, 3, 8, 4, 1, 6, 5],\n",
       " [3, 5, 1, 6, 7, 9, 8, 2, 4],\n",
       " [6, 3, 4, 9, 2, 8, 5, 7, 1],\n",
       " [5, 2, 8, 4, 1, 7, 9, 3, 6],\n",
       " [1, 9, 7, 5, 6, 3, 2, 4, 8],\n",
       " [8, 4, 5, 2, 9, 6, 3, 1, 7],\n",
       " [2, 1, 3, 7, 4, 5, 6, 8, 9],\n",
       " [7, 6, 9, 8, 3, 1, 4, 5, 2]]"
      ]
     },
     "execution_count": 113,
     "metadata": {},
     "output_type": "execute_result"
    }
   ],
   "source": [
    "grid"
   ]
  },
  {
   "cell_type": "code",
   "execution_count": 114,
   "metadata": {},
   "outputs": [
    {
     "data": {
      "text/plain": [
       "[[0, 0, 0, 1, 0, 2, 0, 0, 3],\n",
       " [0, 0, 2, 0, 0, 4, 0, 0, 5],\n",
       " [0, 0, 0, 6, 7, 0, 8, 0, 0],\n",
       " [6, 0, 4, 9, 0, 8, 0, 7, 0],\n",
       " [0, 0, 8, 0, 0, 0, 9, 0, 0],\n",
       " [0, 9, 0, 5, 0, 3, 2, 0, 8],\n",
       " [0, 0, 5, 0, 9, 6, 0, 1, 0],\n",
       " [2, 0, 0, 7, 0, 0, 6, 0, 0],\n",
       " [7, 0, 0, 8, 0, 0, 0, 0, 0]]"
      ]
     },
     "execution_count": 114,
     "metadata": {},
     "output_type": "execute_result"
    }
   ],
   "source": [
    "mat"
   ]
  },
  {
   "cell_type": "code",
   "execution_count": 115,
   "metadata": {},
   "outputs": [],
   "source": [
    "bound = list(divide_chunks(bound, 9))"
   ]
  },
  {
   "cell_type": "code",
   "execution_count": 116,
   "metadata": {},
   "outputs": [],
   "source": [
    "cp = image.copy()\n",
    "for i,m in enumerate(mat):\n",
    "    for j,n in enumerate(m):\n",
    "        if(mat[i][j] != grid[i][j]):\n",
    "            x,y,w,h = bound[i][j]\n",
    "            cv2.putText(cp,str(grid[i][j]),(x+w-35,y+h-15),2,1.3,(0,0,255))"
   ]
  },
  {
   "cell_type": "code",
   "execution_count": 117,
   "metadata": {},
   "outputs": [],
   "source": [
    "cv2.imshow('im',cp)\n",
    "cv2.waitKey(0)\n",
    "cv2.destroyAllWindows()"
   ]
  },
  {
   "cell_type": "code",
   "execution_count": null,
   "metadata": {},
   "outputs": [],
   "source": []
  }
 ],
 "metadata": {
  "kernelspec": {
   "display_name": "Python 3.9.0 64-bit",
   "language": "python",
   "name": "python3"
  },
  "language_info": {
   "codemirror_mode": {
    "name": "ipython",
    "version": 3
   },
   "file_extension": ".py",
   "mimetype": "text/x-python",
   "name": "python",
   "nbconvert_exporter": "python",
   "pygments_lexer": "ipython3",
   "version": "3.9.0"
  },
  "vscode": {
   "interpreter": {
    "hash": "0d591c6e422414675974e227c13f5382000c440fedd3c5006ef2be5d887f0ba7"
   }
  }
 },
 "nbformat": 4,
 "nbformat_minor": 4
}
